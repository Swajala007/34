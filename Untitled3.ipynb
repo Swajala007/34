{
  "nbformat": 4,
  "nbformat_minor": 0,
  "metadata": {
    "colab": {
      "provenance": [],
      "collapsed_sections": [],
      "authorship_tag": "ABX9TyNbe+XpktoQVbQiZBlBEpBg",
      "include_colab_link": true
    },
    "kernelspec": {
      "name": "python3",
      "display_name": "Python 3"
    },
    "language_info": {
      "name": "python"
    }
  },
  "cells": [
    {
      "cell_type": "markdown",
      "metadata": {
        "id": "view-in-github",
        "colab_type": "text"
      },
      "source": [
        "<a href=\"https://colab.research.google.com/github/Swajala007/34/blob/main/Untitled3.ipynb\" target=\"_parent\"><img src=\"https://colab.research.google.com/assets/colab-badge.svg\" alt=\"Open In Colab\"/></a>"
      ]
    },
    {
      "cell_type": "code",
      "execution_count": 3,
      "metadata": {
        "colab": {
          "base_uri": "https://localhost:8080/"
        },
        "id": "ygHlFR5cVK8l",
        "outputId": "f3ef58a6-7474-4d84-b783-d81f88e1a711"
      },
      "outputs": [
        {
          "output_type": "stream",
          "name": "stdout",
          "text": [
            "       Index  Height(Inches)  Weight(Pounds)\n",
            "0          1        65.78331        112.9925\n",
            "1          2        71.51521        136.4873\n",
            "2          3        69.39874        153.0269\n",
            "3          4        68.21660        142.3354\n",
            "4          5        67.78781        144.2971\n",
            "...      ...             ...             ...\n",
            "24995  24996        69.50215        118.0312\n",
            "24996  24997        64.54826        120.1932\n",
            "24997  24998        64.69855        118.2655\n",
            "24998  24999        67.52918        132.2682\n",
            "24999  25000        68.87761        124.8742\n",
            "\n",
            "[25000 rows x 3 columns]\n"
          ]
        }
      ],
      "source": [
        "import pandas as pd\n",
        "import csv\n",
        "file = pd.read_csv(\"SOCR-HeightWeight.csv\")\n",
        "print(file)\n",
        "\n"
      ]
    },
    {
      "cell_type": "code",
      "source": [
        "w = file[\"Weight(Pounds)\"]\n",
        "print(w)"
      ],
      "metadata": {
        "colab": {
          "base_uri": "https://localhost:8080/"
        },
        "id": "c5qwpqRVWn44",
        "outputId": "f5110a5e-7379-48ec-dfce-371c6a130d25"
      },
      "execution_count": 4,
      "outputs": [
        {
          "output_type": "stream",
          "name": "stdout",
          "text": [
            "0        112.9925\n",
            "1        136.4873\n",
            "2        153.0269\n",
            "3        142.3354\n",
            "4        144.2971\n",
            "           ...   \n",
            "24995    118.0312\n",
            "24996    120.1932\n",
            "24997    118.2655\n",
            "24998    132.2682\n",
            "24999    124.8742\n",
            "Name: Weight(Pounds), Length: 25000, dtype: float64\n"
          ]
        }
      ]
    },
    {
      "cell_type": "code",
      "source": [
        "total = 0\n",
        "for i in w:\n",
        "  total = total+i\n",
        "print(total)  "
      ],
      "metadata": {
        "colab": {
          "base_uri": "https://localhost:8080/"
        },
        "id": "3LDuMrspWzTn",
        "outputId": "f334171b-151a-4fd4-d877-3f7551b0cbe8"
      },
      "execution_count": 5,
      "outputs": [
        {
          "output_type": "stream",
          "name": "stdout",
          "text": [
            "3176985.529019979\n"
          ]
        }
      ]
    },
    {
      "cell_type": "code",
      "source": [
        "n = len(w)\n",
        "print(n)"
      ],
      "metadata": {
        "colab": {
          "base_uri": "https://localhost:8080/"
        },
        "id": "ijJfJEC6XBKp",
        "outputId": "dcca03c3-1326-449a-a6cb-c567d8b7e451"
      },
      "execution_count": 6,
      "outputs": [
        {
          "output_type": "stream",
          "name": "stdout",
          "text": [
            "25000\n"
          ]
        }
      ]
    },
    {
      "cell_type": "code",
      "source": [
        "n = len(w)\n",
        "w.sort()\n",
        "print(n)"
      ],
      "metadata": {
        "colab": {
          "base_uri": "https://localhost:8080/"
        },
        "id": "pwp7purHYICg",
        "outputId": "e5a593aa-b6f5-43a7-8558-43d7211079ba"
      },
      "execution_count": 12,
      "outputs": [
        {
          "output_type": "stream",
          "name": "stdout",
          "text": [
            "25000\n"
          ]
        }
      ]
    },
    {
      "cell_type": "code",
      "source": [
        "mean = total/n\n",
        "print(mean)"
      ],
      "metadata": {
        "colab": {
          "base_uri": "https://localhost:8080/"
        },
        "id": "XtDM7wIWXGVY",
        "outputId": "7b8c8158-d600-4182-bc2d-43d884a0cc4b"
      },
      "execution_count": 7,
      "outputs": [
        {
          "output_type": "stream",
          "name": "stdout",
          "text": [
            "127.07942116079916\n"
          ]
        }
      ]
    },
    {
      "cell_type": "code",
      "source": [
        "w = file[\"Weight(Pounds)\"].to_list()\n",
        "if n % 2 == 0:\n",
        "  m1 = float(w[n//2])\n",
        "  m2 = float(w[n//2-1])\n",
        "  median = (m1+m2)/2\n",
        "else:\n",
        "  median = w[n//2]\n",
        "print(median)   "
      ],
      "metadata": {
        "colab": {
          "base_uri": "https://localhost:8080/"
        },
        "id": "j0CRGo9DXSCI",
        "outputId": "08da31fc-3dc5-4b0e-db9e-bf07fb9022e9"
      },
      "execution_count": 10,
      "outputs": [
        {
          "output_type": "stream",
          "name": "stdout",
          "text": [
            "120.46905000000001\n"
          ]
        }
      ]
    },
    {
      "cell_type": "code",
      "source": [
        "import statistics\n",
        "mode = statistics.mode(w)\n",
        "print(mode)"
      ],
      "metadata": {
        "colab": {
          "base_uri": "https://localhost:8080/"
        },
        "id": "eh-6m7OGZixq",
        "outputId": "6258aa94-3037-4b7c-ce15-9ea5450697b4"
      },
      "execution_count": 14,
      "outputs": [
        {
          "output_type": "stream",
          "name": "stdout",
          "text": [
            "124.7975\n"
          ]
        }
      ]
    }
  ]
}