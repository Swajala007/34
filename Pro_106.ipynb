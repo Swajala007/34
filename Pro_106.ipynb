{
  "nbformat": 4,
  "nbformat_minor": 0,
  "metadata": {
    "colab": {
      "provenance": [],
      "authorship_tag": "ABX9TyOHWrfY87jHGblM9sN4XuUv",
      "include_colab_link": true
    },
    "kernelspec": {
      "name": "python3",
      "display_name": "Python 3"
    },
    "language_info": {
      "name": "python"
    }
  },
  "cells": [
    {
      "cell_type": "markdown",
      "metadata": {
        "id": "view-in-github",
        "colab_type": "text"
      },
      "source": [
        "<a href=\"https://colab.research.google.com/github/Swajala007/34/blob/main/Pro_106.ipynb\" target=\"_parent\"><img src=\"https://colab.research.google.com/assets/colab-badge.svg\" alt=\"Open In Colab\"/></a>"
      ]
    },
    {
      "cell_type": "code",
      "execution_count": 1,
      "metadata": {
        "colab": {
          "base_uri": "https://localhost:8080/"
        },
        "id": "OBPwQtRb-z0H",
        "outputId": "52a141b7-a575-4d73-a9c9-0225a172bdad"
      },
      "outputs": [
        {
          "output_type": "stream",
          "name": "stdout",
          "text": [
            "   week  Coffee in ml  sleep in hours\n",
            "0     1            20              89\n",
            "1     2            30              75\n",
            "2     3            45              65\n",
            "3     4            50              40\n",
            "4     5            60              20\n",
            "5     6            80              10\n"
          ]
        }
      ],
      "source": [
        "import pandas as pd \n",
        "import csv\n",
        "\n",
        "df = pd.read_csv(\"https://raw.githubusercontent.com/whitehatjr/finding-correlation/master/cups%20of%20coffee%20vs%20hours%20of%20sleep.csv\")\n",
        "print(df)"
      ]
    },
    {
      "cell_type": "code",
      "source": [
        "week = df[\"week\"]\n",
        "cof = df[\"Coffee in ml\"]\n",
        "sleep = df[\"sleep in hours\"]"
      ],
      "metadata": {
        "id": "k_5DOCAp_V1z"
      },
      "execution_count": 2,
      "outputs": []
    },
    {
      "cell_type": "code",
      "source": [
        "import numpy as np\n",
        "cr = np.corrcoef(week,cof)\n",
        "print(cr[0,1])"
      ],
      "metadata": {
        "colab": {
          "base_uri": "https://localhost:8080/"
        },
        "id": "hLHCvgLW_vdr",
        "outputId": "01184c6f-5fff-4582-fc08-fe49dbd5f76e"
      },
      "execution_count": 3,
      "outputs": [
        {
          "output_type": "stream",
          "name": "stdout",
          "text": [
            "0.9871144836862645\n"
          ]
        }
      ]
    },
    {
      "cell_type": "code",
      "source": [
        "cr = np.corrcoef(week,sleep)\n",
        "print(cr[0,1])"
      ],
      "metadata": {
        "colab": {
          "base_uri": "https://localhost:8080/"
        },
        "id": "ClgeBUAYAGbo",
        "outputId": "5f44dd5d-905a-4fbe-e429-cd013e817bd6"
      },
      "execution_count": 8,
      "outputs": [
        {
          "output_type": "stream",
          "name": "stdout",
          "text": [
            "-0.9917272464672244\n"
          ]
        }
      ]
    },
    {
      "cell_type": "code",
      "source": [
        "cr = np.corrcoef(sleep,cof)\n",
        "print(cr[0,1])"
      ],
      "metadata": {
        "colab": {
          "base_uri": "https://localhost:8080/"
        },
        "id": "HDuzAcySASOE",
        "outputId": "db0d2494-8b97-4c67-dff7-460d9c50911d"
      },
      "execution_count": 9,
      "outputs": [
        {
          "output_type": "stream",
          "name": "stdout",
          "text": [
            "-0.9630614686000525\n"
          ]
        }
      ]
    },
    {
      "cell_type": "code",
      "source": [
        "df = pd.read_csv(\"https://raw.githubusercontent.com/whitehatjr/finding-correlation/master/Student%20Marks%20vs%20Days%20Present.csv\")\n",
        "print(df)"
      ],
      "metadata": {
        "colab": {
          "base_uri": "https://localhost:8080/"
        },
        "id": "KwgBu5xVAlKp",
        "outputId": "0241354c-e077-466f-d758-b14afc6f36b0"
      },
      "execution_count": 11,
      "outputs": [
        {
          "output_type": "stream",
          "name": "stdout",
          "text": [
            "    Roll No  Marks In Percentage  Days Present\n",
            "0         1                79.00           180\n",
            "1         2                73.00           160\n",
            "2         3                71.00           155\n",
            "3         4                71.60           156\n",
            "4         5                59.59           145\n",
            "5         6                30.00           122\n",
            "6         7                35.00           131\n",
            "7         8                44.00           156\n",
            "8         9                60.00           166\n",
            "9        10                60.00           170\n",
            "10       11                60.00           155\n",
            "11       12                63.00           158\n",
            "12       13                78.00           170\n",
            "13       14                63.00           160\n",
            "14       15                77.00           165\n",
            "15       16                54.00           159\n",
            "16       17                20.00           119\n",
            "17       18                65.00           168\n",
            "18       19                78.00           175\n",
            "19       20                55.99           161\n",
            "20       21                70.00           160\n",
            "21       22                68.00           160\n",
            "22       23                46.00           150\n",
            "23       24                50.00           140\n",
            "24       25                47.00           148\n"
          ]
        }
      ]
    },
    {
      "cell_type": "code",
      "source": [
        "rn = df[\"Roll No\"]\n",
        "mp = df[\"Marks In Percentage\"]\n",
        "dp = df[\"Days Present\"]\n"
      ],
      "metadata": {
        "id": "OFN4iXJBA20D"
      },
      "execution_count": 12,
      "outputs": []
    },
    {
      "cell_type": "code",
      "source": [
        "cr = np.corrcoef(rn,mp)\n",
        "print(cr[0,1])"
      ],
      "metadata": {
        "colab": {
          "base_uri": "https://localhost:8080/"
        },
        "id": "dcMV3UpOCSRA",
        "outputId": "12d77c62-5227-4e9b-aa20-f755bd1455ea"
      },
      "execution_count": 13,
      "outputs": [
        {
          "output_type": "stream",
          "name": "stdout",
          "text": [
            "-0.15836725029185336\n"
          ]
        }
      ]
    },
    {
      "cell_type": "code",
      "source": [
        "cr = np.corrcoef(mp,dp)\n",
        "print(cr[0,1])"
      ],
      "metadata": {
        "colab": {
          "base_uri": "https://localhost:8080/"
        },
        "id": "V8gETfHnCWPx",
        "outputId": "af3b26e7-33bd-4d1b-b232-04c1e70d65f4"
      },
      "execution_count": 14,
      "outputs": [
        {
          "output_type": "stream",
          "name": "stdout",
          "text": [
            "0.86288947614385\n"
          ]
        }
      ]
    },
    {
      "cell_type": "code",
      "source": [
        "cr = np.corrcoef(rn,dp)\n",
        "print(cr[0,1])"
      ],
      "metadata": {
        "colab": {
          "base_uri": "https://localhost:8080/"
        },
        "id": "0UFvqyBNCbSv",
        "outputId": "e998053a-4b84-4e31-8fa6-ec8c7d42d6ca"
      },
      "execution_count": 17,
      "outputs": [
        {
          "output_type": "stream",
          "name": "stdout",
          "text": [
            "-0.03781209394164834\n"
          ]
        }
      ]
    }
  ]
}